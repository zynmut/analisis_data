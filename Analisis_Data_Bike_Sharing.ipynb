{
  "cells": [
    {
      "cell_type": "markdown",
      "metadata": {
        "id": "view-in-github",
        "colab_type": "text"
      },
      "source": [
        "<a href=\"https://colab.research.google.com/github/zynmut/analisis_data/blob/main/Analisis_Data_Bike_Sharing.ipynb\" target=\"_parent\"><img src=\"https://colab.research.google.com/assets/colab-badge.svg\" alt=\"Open In Colab\"/></a>"
      ]
    },
    {
      "cell_type": "markdown",
      "metadata": {
        "id": "8zXntzeksVNC"
      },
      "source": [
        "#Proyek Analisis Data : bike_sharing\n",
        "\n",
        "\n",
        "\n",
        "\n"
      ]
    },
    {
      "cell_type": "markdown",
      "source": [
        "*   Nama : Golda Cyma\n",
        "*   Email : 2211111046@ittelkom-pwt.ac.id\n",
        "*   Id Dicoding : goldacyma"
      ],
      "metadata": {
        "id": "FyKcdczgUOmQ"
      }
    },
    {
      "cell_type": "markdown",
      "metadata": {
        "id": "hqx71e7NSbVb"
      },
      "source": [
        "#Menentukan pertanyaan bisnis\n"
      ]
    },
    {
      "cell_type": "markdown",
      "source": [
        "1. Berapa total biaya sewa sepeda (Cnt) untuk musim gugur  2012?\n",
        "2. Berapa banyak sepeda sewaan yang digunakan selama liburan musim panas tahun 2011?\n",
        "3. Bagaimana cara menambah jumlah  sepeda Saya kadang menyewa di hari biasa?\n",
        "4. Apa hubungan antara suhu (suhu) dan jumlah pendaftar (jumlah pendaftaran)?\n",
        "5. Bagaimana pengaruh cuaca  pada musim gugur (musim 3) terhadap jumlah persewaan sepeda (cnt)?\n",
        "6. Berapa pembagian sewa sepeda per jam (cnt) untuk Natal 2012?"
      ],
      "metadata": {
        "id": "ysbgZzL5UmdO"
      }
    },
    {
      "cell_type": "markdown",
      "metadata": {
        "id": "UTcBUs1rtUgT"
      },
      "source": [
        "#Menyiapkan semua library yang dibutuhkan"
      ]
    },
    {
      "cell_type": "code",
      "execution_count": null,
      "metadata": {
        "id": "ih1Dd8XBbqqt"
      },
      "outputs": [],
      "source": [
        "# Library\n",
        "import pandas as pd\n",
        "import plotly.express as px\n",
        "import warnings"
      ]
    },
    {
      "cell_type": "markdown",
      "metadata": {
        "id": "2NLl5_4Ftict"
      },
      "source": [
        "#Data Wrangling\n",
        "\n"
      ]
    },
    {
      "cell_type": "markdown",
      "source": [
        "##Gathering Data"
      ],
      "metadata": {
        "id": "ws69_BSAUv5G"
      }
    },
    {
      "cell_type": "code",
      "execution_count": null,
      "metadata": {
        "id": "HwOvfLx3bxnr"
      },
      "outputs": [],
      "source": [
        "url = 'https://raw.githubusercontent.com/zynmut/analisis_data/main/dataset/day.csv'\n",
        "df_day = pd.read_csv(url)\n",
        "df_day.head()"
      ]
    },
    {
      "cell_type": "code",
      "source": [
        "url = 'https://raw.githubusercontent.com/zynmut/analisis_data/main/dataset/hour.csv'\n",
        "df_hour = pd.read_csv(url)\n",
        "df_hour.head()"
      ],
      "metadata": {
        "id": "_8yFhgK3nTKR"
      },
      "execution_count": null,
      "outputs": []
    },
    {
      "cell_type": "markdown",
      "metadata": {
        "id": "LZ1wFsH-t8TV"
      },
      "source": [
        "##Assesing Data\n",
        "\n",
        "**Data Type**"
      ]
    },
    {
      "cell_type": "code",
      "execution_count": null,
      "metadata": {
        "id": "p9VKpctxb3u4"
      },
      "outputs": [],
      "source": [
        "print('Dataframe day:')\n",
        "print(df_day.info())\n",
        "\n",
        "print('\\nDataframe hour:')\n",
        "print(df_hour.info())"
      ]
    },
    {
      "cell_type": "markdown",
      "metadata": {
        "id": "mWoA161svLIB"
      },
      "source": [
        "(!\n",
        ") Berdasarkan  observasi  df_day, terdapat kesalahan tipe data pada kolom dteday.\n",
        " Ini awalnya sebuah objek, tetapi harus bertipe data datetime.\n"
      ]
    },
    {
      "cell_type": "markdown",
      "metadata": {
        "id": "DAijD8kkv4Vj"
      },
      "source": [
        "**Missing Value**"
      ]
    },
    {
      "cell_type": "code",
      "execution_count": null,
      "metadata": {
        "id": "8OjQe_O0b5nF"
      },
      "outputs": [],
      "source": [
        "print('Dataframe day:')\n",
        "print(df_day.isna().sum())\n",
        "\n",
        "print('\\nDataframe hour:')\n",
        "print(df_hour.isna().sum())"
      ]
    },
    {
      "cell_type": "markdown",
      "metadata": {
        "id": "_eqA-oGOwPRS"
      },
      "source": [
        "( ✓ ) Pemeriksaan catatan df_day dan df_hour menunjukkan bahwa tidak ada nilai yang hilang atau kosong.\n"
      ]
    },
    {
      "cell_type": "markdown",
      "metadata": {
        "id": "ccm5bTtEwTlJ"
      },
      "source": [
        "**Duplicate Data**"
      ]
    },
    {
      "cell_type": "code",
      "execution_count": null,
      "metadata": {
        "id": "LLytNHkIb8Dp"
      },
      "outputs": [],
      "source": [
        "print('Dataframe day:', df_day.duplicated().sum())\n",
        "print(\"Dataframe hour:\", df_hour.duplicated().sum())"
      ]
    },
    {
      "cell_type": "markdown",
      "metadata": {
        "id": "xnug_IBswdlM"
      },
      "source": [
        "(✓) Tidak ada data yang duplicate."
      ]
    },
    {
      "cell_type": "markdown",
      "metadata": {
        "id": "cwBlJMJDwjhS"
      },
      "source": [
        "**Descriptive statistics**"
      ]
    },
    {
      "cell_type": "code",
      "execution_count": null,
      "metadata": {
        "id": "yMXAp18Wb-nG"
      },
      "outputs": [],
      "source": [
        "df_hour.describe()"
      ]
    },
    {
      "cell_type": "code",
      "execution_count": null,
      "metadata": {
        "id": "kZPUd1QaBFX2"
      },
      "outputs": [],
      "source": [
        "df_day.describe()"
      ]
    },
    {
      "cell_type": "markdown",
      "metadata": {
        "id": "Z2Z3ERI_wwlB"
      },
      "source": [
        "\n",
        "**Descriptive Analysis**\n",
        "\n",
        "1.   Datases day\n",
        "\n",
        "*  Jumlah data: 731 entri.\n",
        "*   Musim paling umum: Musim panas (season 2).\n",
        "*   Tahun yang dominan: 2012 (yr = 1).\n",
        "*   Bulan yang paling sering muncul: Juli (mnth 7).\n",
        "* Hari libur hanya ada sekitar 2.87% dari total hari.\n",
        "* Hari kerja adalah mayoritas (sekitar 68.40%).\n",
        "* Cuaca rata-rata pada keadaan yang baik (weathersit 1).\n",
        "* Suhu rata-rata adalah sekitar 0.50 (41°C), dengan suhu perasaan rata-rata sekitar 0.47 (50°C).\n",
        "* Kelembaban rata-rata sekitar 0.47 (47%).\n",
        "* Kecepatan angin rata-rata adalah sekitar 0.63 (67% dari maksimal).\n",
        "* Jumlah pengguna casual rata-rata sekitar 848.\n",
        "* Jumlah pengguna terdaftar rata-rata sekitar 3656.\n",
        "* Total rental rata-rata sekitar 4504 per hari.\n",
        "\n",
        "2. Dataset hour\n",
        "\n",
        "* Dataset terdiri dari 17,379 entri.\n",
        "* Rata-rata kolom-kolom utama adalah sekitar:\n",
        "* Musim (season) 2.50, menunjukkan musim rata-rata.\n",
        "* Tahun (yr) 0.50, mengindikasikan perbandingan antara tahun 2011 dan 2012.\n",
        "* Bulan (mnth) 6.54, menunjukkan bulan rata-rata dalam setahun.\n",
        "* Jam (hr) 11.55, mengindikasikan jam rata-rata dalam sehari.\n",
        "* Hari libur (holiday) 0.03, persentase hari libur.\n",
        "* Hari dalam seminggu (weekday) 3.00, hari rata-rata dalam seminggu.\n",
        "* Hari kerja (workingday) 0.68, persentase hari kerja.\n",
        "* Kondisi cuaca (weathersit) 1.43, kondisi cuaca rata-rata.\n",
        "* Suhu (temp) 0.50, suhu rata-rata yang normal.\n",
        "* Suhu perasaan (atemp) 0.48, suhu perasaan mendekati suhu sebenarnya.\n",
        "* Kelembaban (hum) 0.48, kelembaban rata-rata.\n",
        "* Kecepatan angin (windspeed) 0.63, kecepatan angin rata-rata.\n",
        "* Pengguna casual (casual) 35.68, rata-rata jumlah pengguna casual.\n",
        "* Pengguna terdaftar (registered) 153.79, rata-rata jumlah pengguna terdaftar.\n",
        "* Total rental sepeda (cnt) 189.46, rata-rata jumlah total rental sepeda."
      ]
    },
    {
      "cell_type": "markdown",
      "metadata": {
        "id": "at61W-Mdyokl"
      },
      "source": [
        "##Cleaning Data\n",
        "\n",
        "**Fixed data type**"
      ]
    },
    {
      "cell_type": "code",
      "execution_count": null,
      "metadata": {
        "id": "Ki-SbAmYcBq1"
      },
      "outputs": [],
      "source": [
        "# df_day\n",
        "df_day[\"dteday\"] = pd.to_datetime(df_day[\"dteday\"])\n",
        "# df_hour\n",
        "df_hour[\"dteday\"] = pd.to_datetime(df_hour[\"dteday\"])"
      ]
    },
    {
      "cell_type": "code",
      "execution_count": null,
      "metadata": {
        "id": "m1AddOlOcGNa"
      },
      "outputs": [],
      "source": [
        "# Check data type for df_day and df_hour\n",
        "print('df_day[\"dteday\"] : ', df_day[\"dteday\"].dtypes)\n",
        "print('df_hour[\"dteday\"] : ', df_hour[\"dteday\"].dtypes)"
      ]
    },
    {
      "cell_type": "markdown",
      "metadata": {
        "id": "qEF_YeGPzG06"
      },
      "source": [
        "(✓) Fixed"
      ]
    },
    {
      "cell_type": "markdown",
      "metadata": {
        "id": "RpGC80fGzOsS"
      },
      "source": [
        "#Exploratory Data Analysis (EDA)\n",
        "\n",
        "**Korelasi antara variabel numerik**"
      ]
    },
    {
      "cell_type": "code",
      "execution_count": null,
      "metadata": {
        "id": "PAbBuKG6cIqa"
      },
      "outputs": [],
      "source": [
        "warnings.filterwarnings(\"ignore\")\n",
        "\n",
        "# df_day\n",
        "correlation_matrix = df_day.corr()\n",
        "fig = px.imshow(correlation_matrix)\n",
        "fig.update_layout(title=\"Korelasi antara Variabel Numerik\")\n",
        "fig.show()"
      ]
    },
    {
      "cell_type": "markdown",
      "metadata": {
        "id": "mkrHus3xzwlN"
      },
      "source": [
        "**Distribusi variabel numerik**"
      ]
    },
    {
      "cell_type": "code",
      "execution_count": null,
      "metadata": {
        "id": "mkbm3aflcLLA"
      },
      "outputs": [],
      "source": [
        "numeric_cols = ['temp', 'atemp', 'hum', 'windspeed', 'casual', 'registered', 'cnt']\n",
        "for col in numeric_cols:\n",
        "    fig = px.histogram(df_day, x=col, title=f'Distribusi {col}')\n",
        "    fig.show()"
      ]
    },
    {
      "cell_type": "markdown",
      "metadata": {
        "id": "YXWRZCWSz8F0"
      },
      "source": [
        "**Distribusi variabel kategorikal**"
      ]
    },
    {
      "cell_type": "code",
      "execution_count": null,
      "metadata": {
        "id": "Gbvq_YA5cOo2"
      },
      "outputs": [],
      "source": [
        "categorical_cols = ['season', 'yr', 'mnth', 'holiday', 'weekday', 'workingday', 'weathersit']\n",
        "for col in categorical_cols:\n",
        "    fig = px.bar(df_day[col].value_counts().reset_index(), x='index', y=col)\n",
        "    fig.update_layout(title=f'Distribusi {col}')\n",
        "    fig.show()"
      ]
    },
    {
      "cell_type": "markdown",
      "metadata": {
        "id": "lHgL06ys0KD7"
      },
      "source": [
        "**Hubungan antara musim (season) dan jumlah sewa (cnt)**"
      ]
    },
    {
      "cell_type": "code",
      "execution_count": null,
      "metadata": {
        "id": "3hJ6X__zcTRL"
      },
      "outputs": [],
      "source": [
        "fig = px.box(df_day, x='season', y='cnt')\n",
        "fig.update_layout(title='Hubungan antara Musim dan Jumlah Sewa')\n",
        "fig.show()"
      ]
    },
    {
      "cell_type": "markdown",
      "metadata": {
        "id": "TsGGj04s0W_0"
      },
      "source": [
        "**Hubungan antara hari libur (season) dan jumlah sewa (cnt)**"
      ]
    },
    {
      "cell_type": "code",
      "execution_count": null,
      "metadata": {
        "id": "v0ZpClqNcVAk"
      },
      "outputs": [],
      "source": [
        "fig = px.box(df_day, x='holiday', y='cnt')\n",
        "fig.update_layout(title='Hubungan antara Hari Libur dan Jumlah Sewa')\n",
        "fig.show()"
      ]
    },
    {
      "cell_type": "markdown",
      "metadata": {
        "id": "ZWCEQHQn0l8r"
      },
      "source": [
        "**Hubungan antara cuaca (weathersit) dan jumlah sewa (cnt)**"
      ]
    },
    {
      "cell_type": "code",
      "execution_count": null,
      "metadata": {
        "id": "MUUlRsC1cYnl"
      },
      "outputs": [],
      "source": [
        "fig = px.box(df_day, x='weathersit', y='cnt')\n",
        "fig.update_layout(title='Hubungan antara Cuaca dan Jumlah Sewa')\n",
        "fig.show()"
      ]
    },
    {
      "cell_type": "markdown",
      "metadata": {
        "id": "2EgpMnmo0t46"
      },
      "source": [
        "**Scatter plot antara suhu (temp) dan jumlah sewa (cnt)**"
      ]
    },
    {
      "cell_type": "code",
      "execution_count": null,
      "metadata": {
        "id": "ZMBiTKEMcaXg"
      },
      "outputs": [],
      "source": [
        "fig = px.scatter(df_day, x='temp', y='cnt', title='Scatter Plot antara Suhu dan Jumlah Sewa')\n",
        "fig.show()"
      ]
    },
    {
      "cell_type": "markdown",
      "metadata": {
        "id": "KoculAC802bA"
      },
      "source": [
        "#Visualization & Explanatory Analysis"
      ]
    },
    {
      "cell_type": "markdown",
      "metadata": {
        "id": "Ya4mvJJv1AnW"
      },
      "source": [
        "###1. Berapa total biaya sewa sepeda (Cnt) untuk musim gugur 2012?\n",
        "\n"
      ]
    },
    {
      "cell_type": "code",
      "execution_count": null,
      "metadata": {
        "id": "OwrWjHEFccDK"
      },
      "outputs": [],
      "source": [
        "# Filter tahun 2012 dan musim gugur (season 3)\n",
        "filtered_data = df_day[(df_day[\"yr\"] == 1) & (df_day[\"season\"] == 3)]\n",
        "\n",
        "# Hitung jumlah total sewa sepeda (cnt)\n",
        "total_sewa_sepeda = filtered_data[\"cnt\"].sum()\n",
        "\n",
        "print(\"Jumlah total sewa sepeda untuk tahun 2012 selama musim gugur (musim 3):\", total_sewa_sepeda)"
      ]
    },
    {
      "cell_type": "markdown",
      "metadata": {
        "id": "da3e7x5i1VDy"
      },
      "source": [
        "###2. Berapa banyak sepeda sewaan yang digunakan selama liburan musim panas tahun 2011?"
      ]
    },
    {
      "cell_type": "code",
      "execution_count": null,
      "metadata": {
        "id": "d9nwywH7cd2t"
      },
      "outputs": [],
      "source": [
        "# Filter tahun 2011, musim panas (season 2), dan hari libur (holiday = 1)\n",
        "filtered_data = df_day[(df_day[\"yr\"] == 0) & (df_day[\"season\"] == 2) & (df_day[\"holiday\"] == 1)]\n",
        "\n",
        "# Hitung jumlah total sepeda sewaan\n",
        "total_sepeda_sewaan = filtered_data[\"cnt\"].sum()\n",
        "\n",
        "print(\"Jumlah total sepeda sewaan yang digunakan pada hari libur selama musim panas tahun 2011:\", total_sepeda_sewaan)"
      ]
    },
    {
      "cell_type": "markdown",
      "metadata": {
        "id": "pZrMA69X1hiD"
      },
      "source": [
        "###3. Bagaimana cara menambah jumlah sepeda Saya kadang menyewa di hari biasa?"
      ]
    },
    {
      "cell_type": "code",
      "execution_count": null,
      "metadata": {
        "id": "XaqcXUHmcgV-"
      },
      "outputs": [],
      "source": [
        "# Filter pengguna casual (casual) pada hari kerja (workingday = 1)\n",
        "filtered_data = df_day[(df_day[\"workingday\"] == 1) & (df_day[\"casual\"] > 0)]\n",
        "\n",
        "# Visualisasikan jumlah sewa sepeda casual pada hari kerja\n",
        "fig = px.bar(filtered_data, x=\"weekday\", y=\"casual\", title=\"Jumlah Sewa Sepeda Casual pada Hari Kerja\")\n",
        "fig.update_xaxes(title=\"Hari Kerja\")\n",
        "fig.update_yaxes(title=\"Jumlah Sewa Sepeda Casual\")\n",
        "fig.show()"
      ]
    },
    {
      "cell_type": "markdown",
      "metadata": {
        "id": "4CgVY-oj2Fa2"
      },
      "source": [
        "**Strategi:**\n",
        " * Promosi khusus pada hari-hari tertentu ketika grafik sedang rendah, seperti Tabel (Senin dan Rabu) mencakup diskon khusus, penawaran khusus, dll yang hanya berlaku pada hari kerja.\n",
        " * Mohon mengamankan fasilitas penyewaan sepeda berikut.\n",
        " * Stasiun atau lokasi persewaan mudah diakses pada hari kerja dan dalam kondisi baik.\n",
        " * Pertimbangkan untuk menambah jumlah sepeda yang tersedia pada hari kerja untuk mengakomodasi peningkatan permintaan.\n",
        " * Meningkatkan aktivitas pemasaran khusus pada hari kerja.\n",
        " Iklan online yang ditargetkan kepada masyarakat umum pada hari kerja.\n",
        " * Membuat program loyalitas atau diskon  berkelanjutan untuk pengguna reguler yang sering menyewa sepeda selama seminggu.\n",
        "\n"
      ]
    },
    {
      "cell_type": "markdown",
      "metadata": {
        "id": "sUbCfnTr3CJp"
      },
      "source": [
        "###4. Apa hubungan antara suhu (suhu) dan jumlah pendaftar (jumlah pendaftaran)?"
      ]
    },
    {
      "cell_type": "code",
      "execution_count": null,
      "metadata": {
        "id": "DWRxsp4WciBP"
      },
      "outputs": [],
      "source": [
        "# Buat scatter plot dengan Plotly untuk memvisualisasikan hubungan suhu (temp) dengan jumlah pengguna terdaftar (registered)\n",
        "fig = px.scatter(df_day, x=\"temp\", y=\"registered\", title=\"Hubungan Suhu dengan Jumlah Pengguna Terdaftar\")\n",
        "fig.update_xaxes(title=\"Suhu (temp)\")\n",
        "fig.update_yaxes(title=\"Jumlah Pengguna Terdaftar\")\n",
        "fig.show()"
      ]
    },
    {
      "cell_type": "markdown",
      "metadata": {
        "id": "SmJyTQk-3Rgk"
      },
      "source": [
        "**Insight:**\n",
        "\n",
        "Grafik menunjukkan korelasi positif yang menunjukkan bahwa kenaikan suhu (temperatur) juga berdampak pada peningkatan jumlah pengguna  terdaftar.\n",
        "\n"
      ]
    },
    {
      "cell_type": "markdown",
      "metadata": {
        "id": "ArGnoP3k3gud"
      },
      "source": [
        "###5. Bagaimana pengaruh cuaca pada musim gugur (musim 3) terhadap jumlah persewaan sepeda (cnt)?"
      ]
    },
    {
      "cell_type": "code",
      "execution_count": null,
      "metadata": {
        "id": "5Vm6AfnSckTM"
      },
      "outputs": [],
      "source": [
        "# Filter musim gugur (season 3)\n",
        "filtered_data = df_day[df_day[\"season\"] == 3]\n",
        "\n",
        "# Buat plot dengan Plotly untuk menganalisis pengaruh cuaca terhadap jumlah sewa sepeda\n",
        "fig = px.bar(filtered_data, x=\"weathersit\", y=\"cnt\", title=\"Pengaruh Cuaca terhadap Jumlah Sewa Sepeda (Musim Gugur)\")\n",
        "fig.update_xaxes(title=\"Cuaca (weathersit)\")\n",
        "fig.update_yaxes(title=\"Jumlah Sewa Sepeda (cnt)\")\n",
        "\n",
        "# Tampilkan plot\n",
        "fig.show()"
      ]
    },
    {
      "cell_type": "markdown",
      "metadata": {
        "id": "VVrhHbXh3-Hv"
      },
      "source": [
        "**(Info):**\n",
        "\n",
        "weathersit :\n",
        "\n",
        "1: Clear, Few clouds, Partly cloudy, Partly cloudy\n",
        "\n",
        "2: Mist + Cloudy, Mist + Broken clouds, Mist + Few clouds, Mist\n",
        "\n",
        "3: Light Snow, Light Rain + Thunderstorm + Scattered clouds, Light Rain + Scattered clouds\n",
        "\n",
        "4: Heavy Rain + Ice Pallets + Thunderstorm + Mist, Snow + Fog\n",
        "\n",
        "\n",
        "**Insight :**\n",
        "\n",
        "Dari hasil grafik yang dianalisis dapat disimpulkan bahwa faktor cuaca mempunyai pengaruh yang signifikan terhadap jumlah penyewaan sepeda.\n",
        " Angka tersebut menunjukkan bahwa perubahan kondisi cuaca mempunyai dampak yang signifikan terhadap perilaku pesepeda.\n",
        " Lebih khusus lagi, hal ini dapat diamati pada kondisi cuaca tertentu seperti saat cuaca  cerah atau mendung (kondisi cuaca 1), jumlah penyewaan sepeda  cenderung meningkat secara signifikan.\n",
        "\n",
        " Analisis ini menunjukkan bahwa faktor-faktor seperti kondisi cuaca dapat berperan penting bagi penyedia jasa persewaan sepeda karena  dapat mempengaruhi permintaan sepeda.\n",
        " Hal ini juga dapat memberikan wawasan  berharga bagi pengambil keputusan dalam merencanakan inventaris sepeda, menentukan harga, atau mengembangkan strategi pemasaran yang lebih efektif berdasarkan perubahan faktor cuaca.\n",
        "\n"
      ]
    },
    {
      "cell_type": "markdown",
      "metadata": {
        "id": "CiWVEMV44pgi"
      },
      "source": [
        "###6. Berapa pembagian sewa sepeda per jam (cnt) untuk Natal 2012?"
      ]
    },
    {
      "cell_type": "code",
      "execution_count": null,
      "metadata": {
        "id": "UIA9WDU4cmoX",
        "collapsed": true
      },
      "outputs": [],
      "source": [
        "# Filter data tahun 2012 (yr = 1), Hari Natal (holiday = 1), dan musim panas (season 2)\n",
        "filtered_data = df_hour[(df_hour[\"yr\"] == 1) & (df_hour[\"holiday\"] == 1) & (df_hour[\"season\"] == 2)]\n",
        "\n",
        "# Hitung distribusi per jam sewa sepeda (cnt)\n",
        "distribusi_per_jam = filtered_data.groupby(\"hr\")[\"cnt\"].sum()\n",
        "\n",
        "print(\"Distribusi per jam sewa sepeda pada Hari Natal tahun 2012:\")\n",
        "print(distribusi_per_jam)"
      ]
    },
    {
      "cell_type": "markdown",
      "metadata": {
        "id": "AAbbW4wG5DQl"
      },
      "source": [
        "**Insight :**\n",
        "\n",
        "Sebaran tersebut menunjukkan jumlah rental sepeda mengalami peningkatan paling besar pada pukul 17.00\n",
        " (5.00\n",
        ") dengan jumlah rental sepeda sebanyak 1.\n",
        "117 unit.\n",
        " Hal ini mungkin dikarenakan banyak orang yang menghabiskan  sore harinya dengan bersepeda saat libur Natal.\n",
        " Selain itu, aktivitas penyewaan sepeda mulai meningkat pada pukul 06.00\n",
        " dan mencapai puncaknya antara pukul 17.00\n",
        " hingga 18.00\n",
        ".\n",
        " Setelah itu, jumlah penyewaan sepeda mulai berkurang secara bertahap hingga larut malam.\n",
        " Ini menggambarkan pola penggunaan sepeda pada Hari Natal dan mencerminkan aktivitas dan rutinitas liburan masyarakat pada hari tersebut.\n",
        "\n"
      ]
    },
    {
      "cell_type": "markdown",
      "metadata": {
        "id": "nru1hakV5qMU"
      },
      "source": [
        "##Conclusion\n",
        "\n"
      ]
    },
    {
      "cell_type": "markdown",
      "source": [
        "1. Faktor cuaca mempunyai pengaruh yang signifikan terhadap jumlah sepeda yang tersedia untuk disewa.\n",
        "2. sepeda disewa pada musim gugur 2012, menunjukkan potensi bisnis yang kuat, cuaca, acara, dan promosi mempengaruhi permintaan.\n",
        "3. Jumlah persewaan sepeda  yang digunakan selama liburan musim panas tahun 2011 adalah 7224, yang menunjukkan popularitas bersepeda selama liburan musim panas.Hal ini mencerminkan investasi di bidang infrastruktur dan meningkatnya minat terhadap bersepeda.\n",
        "4. Harga sewa sepeda tertinggi terjadi pada hari Jumat, yang menunjukkan peningkatan signifikan dalam penggunaan sepeda  menjelang akhir pekan.\n",
        "5. Hubungan antara suhu dan jumlah pengguna sepeda berbagi yang terdaftar  menunjukkan bahwa cuaca mempengaruhi minat bersepeda, dan jumlah pengguna cenderung meningkat seiring dengan meningkatnya suhu.\n",
        "6. Pada Hari Natal  2012, distribusi penyewaan sepeda mencapai puncaknya antara pukul 17.00 hingga 18.00, dengan jumlah penyewaan mencapai 1.117 dan meningkat signifikan setelah pukul 08.00."
      ],
      "metadata": {
        "id": "foOgButEWcmh"
      }
    }
  ],
  "metadata": {
    "colab": {
      "provenance": [],
      "private_outputs": true,
      "gpuType": "T4",
      "include_colab_link": true
    },
    "kernelspec": {
      "display_name": "Python 3",
      "name": "python3"
    },
    "language_info": {
      "name": "python"
    },
    "accelerator": "GPU"
  },
  "nbformat": 4,
  "nbformat_minor": 0
}